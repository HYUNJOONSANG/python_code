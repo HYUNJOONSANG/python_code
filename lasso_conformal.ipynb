{
 "cells": [
  {
   "cell_type": "markdown",
   "metadata": {},
   "source": [
    "Question 1"
   ]
  },
  {
   "cell_type": "code",
   "execution_count": 1,
   "metadata": {},
   "outputs": [],
   "source": [
    "from sklearn.datasets import load_diabetes\n",
    "diabetes = load_diabetes()\n"
   ]
  },
  {
   "cell_type": "markdown",
   "metadata": {},
   "source": [
    "Question 2"
   ]
  },
  {
   "cell_type": "code",
   "execution_count": 2,
   "metadata": {},
   "outputs": [],
   "source": [
    "from sklearn.model_selection import train_test_split\n",
    "X_train, X_test, y_train, y_test = train_test_split(diabetes['data'], diabetes['target'],random_state=1505)"
   ]
  },
  {
   "cell_type": "markdown",
   "metadata": {},
   "source": [
    "Question 3"
   ]
  },
  {
   "cell_type": "code",
   "execution_count": 3,
   "metadata": {},
   "outputs": [],
   "source": [
    "import numpy as np\n",
    "from sklearn.linear_model import Lasso\n",
    "lasso001 = Lasso().fit(X_train,y_train)"
   ]
  },
  {
   "cell_type": "code",
   "execution_count": 4,
   "metadata": {},
   "outputs": [
    {
     "name": "stdout",
     "output_type": "stream",
     "text": [
      "0.3501529974417184\n",
      "0.33348785987159235\n",
      "3\n",
      "['bmi', 'bp', 's5']\n"
     ]
    }
   ],
   "source": [
    "trainscore = lasso001.score(X_train,y_train)\n",
    "testscore = lasso001.score(X_test,y_test)\n",
    "numberoffeature = np.sum(lasso001.coef_ != 0)\n",
    "print(trainscore)\n",
    "print(testscore)\n",
    "print(numberoffeature)\n",
    "\n",
    "\n",
    "list = []\n",
    "for i in range(len(lasso001.coef_)):\n",
    "    \n",
    "    if abs(int(lasso001.coef_[i])) != 0:\n",
    "        list.append(diabetes.feature_names[i])\n",
    "           \n",
    "print(list)"
   ]
  },
  {
   "cell_type": "markdown",
   "metadata": {},
   "source": [
    "training R square : 0.35015\n",
    "\n",
    "test R square : 0.33349\n",
    "\n",
    "numbers of feature : 3\n",
    "\n",
    "names of feature : bmi, bp, s5"
   ]
  },
  {
   "cell_type": "markdown",
   "metadata": {},
   "source": [
    "Question 4"
   ]
  },
  {
   "cell_type": "code",
   "execution_count": 5,
   "metadata": {},
   "outputs": [],
   "source": [
    "data2 = np.genfromtxt('diabetes.data',skip_header=1,usecols=np.arange(10))\n",
    "yData = np.genfromtxt('diabetes.data',skip_header=1, usecols=np.arange(10,11))"
   ]
  },
  {
   "cell_type": "code",
   "execution_count": 6,
   "metadata": {},
   "outputs": [
    {
     "data": {
      "text/plain": [
       "array([[59.    ,  2.    , 32.1   , ...,  4.    ,  4.8598, 87.    ],\n",
       "       [48.    ,  1.    , 21.6   , ...,  3.    ,  3.8918, 69.    ],\n",
       "       [72.    ,  2.    , 30.5   , ...,  4.    ,  4.6728, 85.    ],\n",
       "       ...,\n",
       "       [60.    ,  2.    , 24.9   , ...,  3.77  ,  4.1271, 95.    ],\n",
       "       [36.    ,  1.    , 30.    , ...,  4.79  ,  5.1299, 85.    ],\n",
       "       [36.    ,  1.    , 19.6   , ...,  3.    ,  4.5951, 92.    ]])"
      ]
     },
     "execution_count": 6,
     "metadata": {},
     "output_type": "execute_result"
    }
   ],
   "source": [
    "data2"
   ]
  },
  {
   "cell_type": "markdown",
   "metadata": {},
   "source": [
    "Question 5"
   ]
  },
  {
   "cell_type": "code",
   "execution_count": 7,
   "metadata": {},
   "outputs": [],
   "source": [
    "from sklearn.model_selection import train_test_split\n",
    "X_train_or, X_test_or, y_train_or, y_test_or = train_test_split(data2, yData,random_state=1505)"
   ]
  },
  {
   "cell_type": "markdown",
   "metadata": {},
   "source": [
    "Question 6"
   ]
  },
  {
   "cell_type": "code",
   "execution_count": 8,
   "metadata": {},
   "outputs": [],
   "source": [
    "import numpy as np\n",
    "from sklearn.linear_model import Lasso\n",
    "lassoOrigin = Lasso().fit(X_train_or,y_train_or)"
   ]
  },
  {
   "cell_type": "code",
   "execution_count": 9,
   "metadata": {},
   "outputs": [
    {
     "name": "stdout",
     "output_type": "stream",
     "text": [
      "0.5231386816171255\n",
      "0.449921112842607\n",
      "9\n",
      "['age', 'sex', 'bmi', 'bp', 's1', 's2', 's3', 's5', 's6']\n"
     ]
    }
   ],
   "source": [
    "trainscore = lassoOrigin.score(X_train_or,y_train_or)\n",
    "testscore = lassoOrigin.score(X_test_or,y_test_or)\n",
    "numberoffeature = np.sum(lassoOrigin.coef_ != 0)\n",
    "print(trainscore)\n",
    "print(testscore)\n",
    "print(numberoffeature)\n",
    "\n",
    "list = []\n",
    "for i in range(len(lassoOrigin.coef_)):    \n",
    "    if abs(lassoOrigin.coef_[i]) != 0:\n",
    "        list.append(diabetes.feature_names[i])\n",
    "   \n",
    "print(list)"
   ]
  },
  {
   "cell_type": "markdown",
   "metadata": {},
   "source": [
    "training R square : 0.52313\n",
    "\n",
    "test R square : 0.44992\n",
    "\n",
    "numbers of feature : 9 \n",
    "\n",
    "names of feature : age, sex, bmi, bp, s1, s2, s3, s5, s6\n",
    "\n",
    "Training and test R square were increased. Additionally, \"Lasso\" algorithm used  nine features when using original diabetes data. \n"
   ]
  },
  {
   "cell_type": "markdown",
   "metadata": {},
   "source": [
    "Question 7"
   ]
  },
  {
   "cell_type": "code",
   "execution_count": 10,
   "metadata": {},
   "outputs": [],
   "source": [
    "from sklearn.preprocessing import StandardScaler\n",
    "scaler = StandardScaler()\n",
    "X_train_scaled = scaler.fit_transform(X_train_or)\n",
    "X_test_scaled = scaler.fit_transform(X_test_or)"
   ]
  },
  {
   "cell_type": "markdown",
   "metadata": {},
   "source": [
    "Question 8"
   ]
  },
  {
   "cell_type": "code",
   "execution_count": 11,
   "metadata": {},
   "outputs": [
    {
     "name": "stdout",
     "output_type": "stream",
     "text": [
      "0.5266446253660066\n",
      "0.46149923933282916\n",
      "8\n",
      "['age', 'sex', 'bmi', 'bp', 's1', 's3', 's5', 's6']\n"
     ]
    }
   ],
   "source": [
    "import numpy as np\n",
    "from sklearn.linear_model import Lasso\n",
    "lassoscaler = Lasso().fit(X_train_scaled,y_train_or)\n",
    "trainscore = lassoscaler.score(X_train_scaled,y_train_or)\n",
    "testscore = lassoscaler.score(X_test_scaled,y_test_or)\n",
    "numberoffeature = np.sum(lassoscaler.coef_ != 0)\n",
    "print(trainscore)\n",
    "print(testscore)\n",
    "print(numberoffeature)\n",
    "\n",
    "list = []\n",
    "for i in range(len(lassoscaler.coef_)):    \n",
    "    if abs(lassoscaler.coef_[i]) != 0:\n",
    "        list.append(diabetes.feature_names[i])\n",
    "   \n",
    "print(list)"
   ]
  },
  {
   "cell_type": "markdown",
   "metadata": {},
   "source": [
    "training R square : 0.52664\n",
    "\n",
    "test R square : 0.46150\n",
    "\n",
    "numbers of feature : 8\n",
    "\n",
    "names of feature : age, sex, bmi, bp, s1, s3, s5, s6\n",
    "\n",
    "Unlike expected, my current results closer to item 6. I think the reason is why the number of features used for the Lasso model in each item. In other words, in item3, utilized number of features is 3. However, it increased from 3 to 9 in item6. Finally, the number of features used for the Lasso model in item8 is 8. Thus, it seems like the results might be different as the number of features used even though data was normalized.  "
   ]
  },
  {
   "cell_type": "markdown",
   "metadata": {},
   "source": [
    "Question 9"
   ]
  },
  {
   "cell_type": "code",
   "execution_count": 12,
   "metadata": {},
   "outputs": [
    {
     "name": "stdout",
     "output_type": "stream",
     "text": [
      "0.5298488656196936\n",
      "0.46020467845540336\n",
      "10\n"
     ]
    }
   ],
   "source": [
    "lasso_1 = Lasso(alpha = 0.01, max_iter=100000).fit(X_train_scaled,y_train_or)\n",
    "trainscore1 = lasso_1.score(X_train_scaled,y_train_or)\n",
    "testscore1 = lasso_1.score(X_test_scaled,y_test_or)\n",
    "numberoffeature1 = np.sum(lasso_1.coef_ != 0)\n",
    "print(trainscore1)\n",
    "print(testscore1)\n",
    "print(numberoffeature1)"
   ]
  },
  {
   "cell_type": "code",
   "execution_count": 13,
   "metadata": {},
   "outputs": [
    {
     "name": "stdout",
     "output_type": "stream",
     "text": [
      "0.5297712051460375\n",
      "0.45957770515515123\n",
      "10\n"
     ]
    }
   ],
   "source": [
    "lasso_2 = Lasso(alpha = 0.05, max_iter=100000).fit(X_train_scaled,y_train_or)\n",
    "trainscore2 = lasso_2.score(X_train_scaled,y_train_or)\n",
    "testscore2 = lasso_2.score(X_test_scaled,y_test_or)\n",
    "numberoffeature2 = np.sum(lasso_2.coef_ != 0)\n",
    "print(trainscore2)\n",
    "print(testscore2)\n",
    "print(numberoffeature2)"
   ]
  },
  {
   "cell_type": "code",
   "execution_count": 14,
   "metadata": {},
   "outputs": [
    {
     "name": "stdout",
     "output_type": "stream",
     "text": [
      "0.5295155554176249\n",
      "0.458493081150843\n",
      "10\n"
     ]
    }
   ],
   "source": [
    "lasso_3 = Lasso(alpha = 0.1, max_iter=100000).fit(X_train_scaled,y_train_or)\n",
    "trainscore3 = lasso_3.score(X_train_scaled,y_train_or)\n",
    "testscore3 = lasso_3.score(X_test_scaled,y_test_or)\n",
    "numberoffeature3 = np.sum(lasso_3.coef_ != 0)\n",
    "print(trainscore3)\n",
    "print(testscore3)\n",
    "print(numberoffeature3)"
   ]
  },
  {
   "cell_type": "code",
   "execution_count": 15,
   "metadata": {},
   "outputs": [
    {
     "name": "stdout",
     "output_type": "stream",
     "text": [
      "0.5281873326462772\n",
      "0.4583386733300621\n",
      "9\n"
     ]
    }
   ],
   "source": [
    "lasso_4 = Lasso(alpha = 0.5, max_iter=1000).fit(X_train_scaled,y_train_or)\n",
    "trainscore4 = lasso_4.score(X_train_scaled,y_train_or)\n",
    "testscore4 = lasso_4.score(X_test_scaled,y_test_or)\n",
    "numberoffeature4 = np.sum(lasso_4.coef_ != 0)\n",
    "print(trainscore4)\n",
    "print(testscore4)\n",
    "print(numberoffeature4)"
   ]
  },
  {
   "cell_type": "code",
   "execution_count": 16,
   "metadata": {},
   "outputs": [
    {
     "name": "stdout",
     "output_type": "stream",
     "text": [
      "0.5266446253660066\n",
      "0.46149923933282916\n",
      "8\n"
     ]
    }
   ],
   "source": [
    "lasso_5 = Lasso(alpha = 1, max_iter=1000).fit(X_train_scaled,y_train_or)\n",
    "trainscore5 = lasso_5.score(X_train_scaled,y_train_or)\n",
    "testscore5 = lasso_5.score(X_test_scaled,y_test_or)\n",
    "numberoffeature5 = np.sum(lasso_5.coef_ != 0)\n",
    "print(trainscore5)\n",
    "print(testscore5)\n",
    "print(numberoffeature5)"
   ]
  },
  {
   "cell_type": "code",
   "execution_count": 17,
   "metadata": {},
   "outputs": [
    {
     "data": {
      "text/plain": [
       "Text(0,0.5,'test R square')"
      ]
     },
     "execution_count": 17,
     "metadata": {},
     "output_type": "execute_result"
    },
    {
     "data": {
      "image/png": "[encoded data removed]",
      "text/plain": [
       "<Figure size 432x288 with 1 Axes>"
      ]
     },
     "metadata": {},
     "output_type": "display_data"
    }
   ],
   "source": [
    "%matplotlib inline\n",
    "import matplotlib.pyplot as plt\n",
    "#plt.plot(testscore1,numberoffeature1,label = \"Lasso alpha=0.5\")\n",
    "#plt.plot(testscore2,numberoffeature2, label=\"Lasso alpha=0.1\")\n",
    "#plt.plot(testscore3,numberoffeature3, label=\"Lasso alpha=0.01\")\n",
    "#plt.plot(testscore4,numberoffeature4, label=\"Lasso alpha=0.001\")\n",
    "#plt.plot([numberoffeature1,numberoffeature2,numberoffeature3,numberoffeature4])\n",
    "\n",
    "test_r_square = [testscore1,testscore2,testscore3,testscore4,testscore5]\n",
    "number_of_feature = [numberoffeature1,numberoffeature2,numberoffeature3,numberoffeature4,numberoffeature5]\n",
    "\n",
    "plt.plot(number_of_feature,test_r_square,marker='d', linestyle='--', color='r', label='Square')\n",
    "\n",
    "plt.title(\"test R square vs number of features\")\n",
    "plt.xlabel(\"number of features\")\n",
    "plt.ylabel(\"test R square\")\n",
    "\n",
    "#plt.subplot(2, 1, 2)\n",
    "#plt.plot([0.01,0.05,0.1,0.5,1],, marker='x', linestyle='-', color='g', label='Square')\n",
    "\n",
    "#plt.xlabel(\"alpha value\")\n",
    "#plt.ylabel(\"number of features\")"
   ]
  },
  {
   "cell_type": "markdown",
   "metadata": {},
   "source": [
    "I prefer first one because test score is higher than other points. In addition, I think that the number of feature is proper. "
   ]
  },
  {
   "cell_type": "markdown",
   "metadata": {},
   "source": [
    "Question 10"
   ]
  },
  {
   "cell_type": "code",
   "execution_count": 18,
   "metadata": {},
   "outputs": [
    {
     "name": "stdout",
     "output_type": "stream",
     "text": [
      "Best Score: 0.3859497506140451\n",
      "Best alpha: 0.05\n",
      "Best max: 1000\n",
      "training R square 0.5297712051460375\n",
      "test R square 0.45957770515515123\n",
      "numbers of feature 10\n",
      "names of feature ['age', 'sex', 'bmi', 'bp', 's1', 's2', 's3', 's4', 's5', 's6']\n"
     ]
    }
   ],
   "source": [
    "from sklearn.linear_model import Lasso\n",
    "from sklearn.model_selection import cross_val_score\n",
    "\n",
    "# Suppose alpha is 0.001,0.005, 0.01, 0.05, 0.1,0.5, 1\n",
    "# max_iter is [1000, 100000, 1000000, 10000000]\n",
    "\n",
    "lasso_cross = Lasso()\n",
    "lasso_best = Lasso()\n",
    "best_alpha = 0\n",
    "best_max = 0\n",
    "score_1 = 0\n",
    "\n",
    "\n",
    "for a in [0.001,0.005, 0.01, 0.05, 0.1,0.5, 1]:\n",
    "    for m in [1000, 10000, 100000, 1000000]:\n",
    "        scores = 0\n",
    "        score = 0\n",
    "        lasso_cross = Lasso(alpha=a, max_iter=m)\n",
    "        lasso_cross.fit(X_train_scaled, y_train_or)\n",
    "        scores = cross_val_score(lasso_cross, X_test_scaled, y_test_or, cv=5)\n",
    "        score = np.mean(scores)\n",
    "\n",
    "        if score > score_1:\n",
    "            score_1 = score\n",
    "            best_alpha = a\n",
    "            best_max = m\n",
    "\n",
    "print(\"Best Score:\", score_1)\n",
    "print(\"Best alpha:\", best_alpha)\n",
    "print(\"Best max:\", best_max)\n",
    "\n",
    "lasso_best = Lasso()\n",
    "lasso_best = Lasso(alpha=best_alpha, max_iter=best_max)\n",
    "lasso_best.fit(X_train_scaled, y_train_or)\n",
    "test_score = lasso_best.score(X_test_scaled, y_test_or)\n",
    "trainscore = lasso_best.score(X_train_scaled, y_train_or)\n",
    "numberoffeature = np.sum(lasso_best.coef_ != 0)\n",
    "print(\"training R square\", trainscore)\n",
    "print(\"test R square\", test_score)\n",
    "print(\"numbers of feature\", numberoffeature)\n",
    "\n",
    "list = []\n",
    "for i in range(len(lasso_best.coef_)):    \n",
    "    if abs(lasso_best.coef_[i]) != 0:\n",
    "        list.append(diabetes.feature_names[i])\n",
    "   \n",
    "print(\"names of feature\", list)\n"
   ]
  },
  {
   "cell_type": "markdown",
   "metadata": {},
   "source": [
    "Best Score: 0.3859497506140451\n",
    "\n",
    "Best alpha: 0.05\n",
    "\n",
    "Best max: 1000\n",
    "\n",
    "training R square 0.5297712051460375\n",
    "\n",
    "test R square 0.45957770515515123\n",
    "\n",
    "numbers of feature 10\n",
    "\n",
    "names of feature : age, sex, bmi, bp, s1,s2, s3, s4, s5, s6\n"
   ]
  },
  {
   "cell_type": "markdown",
   "metadata": {},
   "source": [
    "Question 11\n"
   ]
  },
  {
   "cell_type": "markdown",
   "metadata": {},
   "source": [
    "(A) Split the training set that you obtained in item 5 into two parts:\n",
    "the calibration set of size 99 and the rest of the training set (the\n",
    "training set proper). You may use the function train_test_split\n",
    "in scikit-learn. Use your birthday (in the format DDMM) as\n",
    "random_state."
   ]
  },
  {
   "cell_type": "code",
   "execution_count": 19,
   "metadata": {},
   "outputs": [],
   "source": [
    "from sklearn.model_selection import train_test_split\n",
    "X_train_pr, X_calib_1 = train_test_split(X_train_or,test_size=0.299,random_state=1505)\n",
    "y_train_pr, y_calib = train_test_split(y_train_or,test_size=0.299,random_state=1505)"
   ]
  },
  {
   "cell_type": "code",
   "execution_count": 20,
   "metadata": {},
   "outputs": [
    {
     "data": {
      "text/plain": [
       "99"
      ]
     },
     "execution_count": 20,
     "metadata": {},
     "output_type": "execute_result"
    }
   ],
   "source": [
    "len(y_calib)"
   ]
  },
  {
   "cell_type": "markdown",
   "metadata": {},
   "source": [
    "(B) Preprocess the training set proper, calibration set, and test set in\n",
    "the same way using StandardScaler. Namely, fit the scaler to the\n",
    "training set proper and then use it to transform all three."
   ]
  },
  {
   "cell_type": "code",
   "execution_count": 21,
   "metadata": {},
   "outputs": [],
   "source": [
    "from sklearn.preprocessing import StandardScaler\n",
    "scaler = StandardScaler()\n",
    "X_train_scaled = scaler.fit_transform(X_train_pr)\n",
    "X_calib_scaled = scaler.fit_transform(X_calib_1)\n",
    "X_test_scaled_1 = scaler.fit_transform(X_test_or)"
   ]
  },
  {
   "cell_type": "markdown",
   "metadata": {},
   "source": [
    "(C) Using the nonconformity measure α = jy − y^j, where y is the true\n",
    "label and ^ y is its prediction given the training set proper, for each test\n",
    "sample compute the prediction interval for it. Do this for significance\n",
    "levels 5% and 20%. For each of these significance levels compute"
   ]
  },
  {
   "cell_type": "code",
   "execution_count": 22,
   "metadata": {},
   "outputs": [
    {
     "name": "stdout",
     "output_type": "stream",
     "text": [
      "when significance level is 5%, the length of intervals:  232\n",
      "when significance level is 5%, test erro rate:  14.4144\n",
      "when significance level is 20%, the length of intervals:  232\n",
      "when significance level is 20%, test erro rate:  27.9279\n"
     ]
    }
   ],
   "source": [
    "# cross_validation function\n",
    "# Suppose alpha is 0.001,0.005, 0.01, 0.05, 0.1,0.5, 1\n",
    "# max_iter is [1000, 10000, 100000, 1000000]\n",
    "def cross_val_func(X_train,X_test,y_train,y_test):\n",
    "    lasso_cross = Lasso()\n",
    "    lasso_best = Lasso()\n",
    "    best_alpha = 0\n",
    "    best_max = 0\n",
    "    score_1 = 0\n",
    "    returnlist = []\n",
    "\n",
    "\n",
    "    for a in [0.001,0.005, 0.01, 0.05, 0.1,0.5, 1]:\n",
    "        for m in [1000, 10000, 100000, 1000000]:\n",
    "            scores = 0\n",
    "            score = 0\n",
    "            lasso_cross = Lasso(alpha=a, max_iter=m)\n",
    "            lasso_cross.fit(X_train, y_train)\n",
    "            scores = cross_val_score(lasso_cross, X_test, y_test, cv=5)\n",
    "            score = np.mean(scores)\n",
    "\n",
    "            if score > score_1:\n",
    "                score_1 = score\n",
    "                best_alpha = a\n",
    "                best_max = m\n",
    "\n",
    "    returnlist.append(score_1)\n",
    "    returnlist.append(best_alpha)\n",
    "    returnlist.append(best_max)\n",
    "    return returnlist\n",
    "\n",
    "# calculate prediction y\n",
    "# alphaV is best alpha value from cross validation score\n",
    "# maxiter is best max_iter value from cross validation score and Dataset1 is training set\n",
    "# Dataset 2 is y training set\n",
    "def Lasso_pred (alphaV, maxiter, Dataset1, Dataset2):\n",
    "\n",
    "    lassoconformal = Lasso(alpha=alphaV, max_iter=maxiter).fit(Dataset1, Dataset2)\n",
    "    y_pred = lassoconformal.predict(X_train_scaled)\n",
    "    return y_pred\n",
    "\n",
    "\n",
    "# sort list\n",
    "def sortFunct(list_dist):\n",
    "    for i in range(len(list_dist) - 1, 0, -1):\n",
    "        for j in range(i):\n",
    "            if list_dist[j] > list_dist[j + 1]:\n",
    "                temp = list_dist[j + 1]\n",
    "                list_dist[j + 1] = list_dist[j]\n",
    "                list_dist[j] = temp\n",
    "\n",
    "    return list_dist\n",
    "\n",
    "\n",
    "# calculate alpha_k\n",
    "def alphacal(label, prediction):\n",
    "    alphalist = []\n",
    "\n",
    "    for i in range(len(label)):\n",
    "        alphacal = abs(label[i] - prediction[i])\n",
    "        alphalist.append(alphacal)\n",
    "\n",
    "    return alphalist\n",
    "\n",
    "# calculate intervals\n",
    "# alphalist is sorted alpha value and length is about size of calibration data\n",
    "# significane is  significance level\n",
    "# for data slicing, values transferred to integer\n",
    "def calintervalFunc(alphalist, length, significane,prediction):\n",
    "    kValue = 0\n",
    "\n",
    "    cValue = 0\n",
    "    interval = np.zeros(length)\n",
    "\n",
    "    kValue = int(((1-significane) * (length+1)))\n",
    "    cValue = (alphalist[kValue-1])\n",
    "    matrix = [[0 for col in range(2)] for row in range(len(prediction))]\n",
    "\n",
    "    for i in range(len(prediction)):\n",
    "        matrix[i][0] = (prediction[i] - cValue)\n",
    "        matrix[i][1] = (prediction[i] + cValue)\n",
    "\n",
    "    return matrix\n",
    "\n",
    "# mainFunc is that calculate intervals and error rate using intervals\n",
    "def mainFunc(trainingset, testset, label, training_y,significance):\n",
    "    list = []\n",
    "    alphalist = []\n",
    "    intervallist_1 = []\n",
    "\n",
    "    list = cross_val_func(X_train_scaled, X_test_scaled, y_train_pr, y_test_or)\n",
    "    y_pred = Lasso_pred(list[1], list[2], X_train_scaled, y_train_pr)\n",
    "    alphalist = alphacal(y_test_or,y_pred)\n",
    "    alphalist = sortFunct(alphalist)\n",
    "    \n",
    "    alphalist = alphalist[0:len(X_calib_scaled)] # cutting data until length of X calibration Data size\n",
    "    \n",
    "    intervallist_1 = calintervalFunc(alphalist,len(X_calib_scaled),significance,y_pred)\n",
    "\n",
    "    return intervallist_1\n",
    "\n",
    "def predicttion(intervallist,label_y):\n",
    "\n",
    "    countaccuracy = 0\n",
    "    errorate = 0\n",
    "    for i in range(len(label_y)):\n",
    "        if label_y[i] >= intervallist[i][0] and label_y[i] <= intervallist[i][1]:\n",
    "            countaccuracy += 1\n",
    "\n",
    "    errorate = (1 - (countaccuracy/len(label_y))) * 100\n",
    "\n",
    "    return errorate\n",
    "\n",
    "intervallist = []\n",
    "errorrate = 0\n",
    "\n",
    "# when significance is 0.05\n",
    "intervallist = mainFunc(X_train_scaled,X_test_scaled,y_train_pr,y_test_or,0.05)\n",
    "errorrate = predicttion(intervallist,y_test_or)\n",
    "\n",
    "print('when significance level is 5%, the length of intervals: ', len(intervallist))\n",
    "print('when significance level is 5%, test erro rate: ', round(errorrate,4))\n",
    "\n",
    "\n",
    "\n",
    "# when significance is 0.2\n",
    "intervallist = mainFunc(X_train_scaled,X_test_scaled,y_train_pr,y_test_or,0.2)\n",
    "errorrate = predicttion(intervallist,y_test_or)\n",
    "\n",
    "print('when significance level is 20%, the length of intervals: ', len(intervallist))\n",
    "print('when significance level is 20%, test erro rate: ', round(errorrate,4))\n"
   ]
  },
  {
   "cell_type": "code",
   "execution_count": null,
   "metadata": {},
   "outputs": [],
   "source": []
  }
 ],
 "metadata": {
  "kernelspec": {
   "display_name": "Python 3",
   "language": "python",
   "name": "python3"
  },
  "language_info": {
   "codemirror_mode": {
    "name": "ipython",
    "version": 3
   },
   "file_extension": ".py",
   "mimetype": "text/x-python",
   "name": "python",
   "nbconvert_exporter": "python",
   "pygments_lexer": "ipython3",
   "version": "3.6.8"
  }
 },
 "nbformat": 4,
 "nbformat_minor": 2
}
