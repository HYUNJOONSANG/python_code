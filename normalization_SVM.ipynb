{
 "cells": [
  {
   "cell_type": "markdown",
   "metadata": {},
   "source": [
    "Question 1"
   ]
  },
  {
   "cell_type": "code",
   "execution_count": 1,
   "metadata": {},
   "outputs": [],
   "source": [
    "from sklearn.datasets import load_wine\n",
    "import numpy as np\n",
    "import pandas as pd\n",
    "from sklearn.svm import SVC\n",
    "from sklearn.model_selection import cross_val_score\n",
    "\n",
    "USPS_train = np.genfromtxt('zip.train', delimiter = ' ')\n",
    "USPS_test = np.genfromtxt('zip.test', delimiter = ' ')\n",
    "USPS_data = np.concatenate([USPS_train,USPS_test])\n",
    "USPS_X = USPS_data[:,1:np.shape(USPS_data)[0]]\n",
    "USPS_Y = USPS_data[:,0]\n"
   ]
  },
  {
   "cell_type": "code",
   "execution_count": 2,
   "metadata": {},
   "outputs": [],
   "source": [
    "wine = load_wine()"
   ]
  },
  {
   "cell_type": "markdown",
   "metadata": {},
   "source": [
    "Question 2"
   ]
  },
  {
   "cell_type": "code",
   "execution_count": 3,
   "metadata": {},
   "outputs": [],
   "source": [
    "from sklearn.model_selection import train_test_split\n",
    "wine_X_train, wine_X_test, wine_y_train, wine_y_test = train_test_split(wine['data'], wine['target'],random_state=1505)\n",
    "usps_X_train, usps_X_test, usps_y_train, usps_y_test = train_test_split(USPS_X, USPS_Y,random_state=1505)"
   ]
  },
  {
   "cell_type": "markdown",
   "metadata": {},
   "source": [
    "Question 3\n",
    "\n",
    "wine Data"
   ]
  },
  {
   "cell_type": "code",
   "execution_count": 75,
   "metadata": {},
   "outputs": [
    {
     "name": "stdout",
     "output_type": "stream",
     "text": [
      "Best CV score: 0.7803915343915344\n",
      "Best parameters C and gamma: 100 0.001\n",
      "train set score with best parameters: 1.0\n"
     ]
    }
   ],
   "source": [
    "best_score = 0\n",
    "for gamma in [0.001, 0.01, 0.1, 1, 10, 100]:\n",
    "    for C in [0.001, 0.01, 0.1, 1, 10, 100]:\n",
    "\n",
    "        svm = SVC(gamma=gamma, C=C)\n",
    "        scores = cross_val_score(svm, wine_X_train, wine_y_train, cv=5)\n",
    "        score = np.mean(scores)\n",
    "        if score > best_score:\n",
    "            best_score = score\n",
    "            best_C = C\n",
    "            best_gamma = gamma\n",
    "svm = SVC(C=best_C, gamma=best_gamma)\n",
    "svm.fit(wine_X_train,wine_y_train)\n",
    "train_score = svm.score(wine_X_train,wine_y_train)            \n",
    "print(\"Best CV score:\", best_score)\n",
    "print(\"Best parameters C and gamma:\", best_C, best_gamma)\n",
    "print(\"train set score with best parameters:\", train_score)"
   ]
  },
  {
   "cell_type": "markdown",
   "metadata": {},
   "source": [
    "When using the default of parameters, it found out that  CV score is not high. "
   ]
  },
  {
   "cell_type": "markdown",
   "metadata": {},
   "source": [
    "usps data"
   ]
  },
  {
   "cell_type": "code",
   "execution_count": 76,
   "metadata": {},
   "outputs": [
    {
     "name": "stdout",
     "output_type": "stream",
     "text": [
      "Best CV score: 0.9757626104526891\n",
      "Best parameters C and gamma: 10 0.01\n",
      "train set score with best parameters: 0.9998565897031407\n"
     ]
    }
   ],
   "source": [
    "import warnings\n",
    "warnings.filterwarnings(\"ignore\")\n",
    "\n",
    "best_score = 0\n",
    "for gamma in [0.001, 0.01, 0.1, 1, 10, 100]:\n",
    "    for C in [0.001, 0.01, 0.1, 1, 10, 100]:\n",
    "\n",
    "        svm = SVC(gamma=gamma, C=C)\n",
    "        scores = cross_val_score(svm, usps_X_train, usps_y_train, cv=5)\n",
    "        score = np.mean(scores)\n",
    "        if score > best_score:\n",
    "            best_score = score\n",
    "            best_C = C\n",
    "            best_gamma = gamma\n",
    "svm = SVC(C=best_C, gamma=best_gamma)\n",
    "svm.fit(usps_X_train,usps_y_train)\n",
    "train_score = svm.score(usps_X_train,usps_y_train)            \n",
    "print(\"Best CV score:\", best_score)\n",
    "print(\"Best parameters C and gamma:\", best_C, best_gamma)\n",
    "print(\"train set score with best parameters:\", train_score)"
   ]
  },
  {
   "cell_type": "markdown",
   "metadata": {},
   "source": [
    "Unlike wine data, usps data seems like to obtain high CV score even using the default of parameters"
   ]
  },
  {
   "cell_type": "markdown",
   "metadata": {},
   "source": [
    "Question 4\n",
    "\n",
    "wine data"
   ]
  },
  {
   "cell_type": "code",
   "execution_count": 77,
   "metadata": {},
   "outputs": [
    {
     "name": "stdout",
     "output_type": "stream",
     "text": [
      "TEST error rate: 0.2222222222222222\n"
     ]
    }
   ],
   "source": [
    "svm = SVC(C=100, gamma=0.001)\n",
    "svm.fit(wine_X_train, wine_y_train)\n",
    "y_pred = svm.predict(wine_X_test)\n",
    "MSE = np.mean(y_pred !=wine_y_test)\n",
    "print(\"TEST error rate:\", MSE)"
   ]
  },
  {
   "cell_type": "markdown",
   "metadata": {},
   "source": [
    "when comparing test error rate of wine data with task 3, test error rate is slightly higher than task 3"
   ]
  },
  {
   "cell_type": "markdown",
   "metadata": {},
   "source": [
    "USPS data"
   ]
  },
  {
   "cell_type": "code",
   "execution_count": 78,
   "metadata": {},
   "outputs": [
    {
     "name": "stdout",
     "output_type": "stream",
     "text": [
      "TEST error rate: 0.024516129032258065\n"
     ]
    }
   ],
   "source": [
    "svm = SVC(C=100, gamma=0.01)\n",
    "svm.fit(usps_X_train, usps_y_train)\n",
    "y_pred = svm.predict(usps_X_test)\n",
    "MSE = np.mean(y_pred !=usps_y_test)\n",
    "print(\"TEST error rate:\", MSE)"
   ]
  },
  {
   "cell_type": "markdown",
   "metadata": {},
   "source": [
    "when comparing test error rate of USPS data with task 3, test error rate seems like lower than the results of task 3 "
   ]
  },
  {
   "cell_type": "markdown",
   "metadata": {},
   "source": [
    "Question 5\n",
    "\n",
    "Wine data\n",
    "\n",
    "using MinMaxScaler() (grid search)"
   ]
  },
  {
   "cell_type": "code",
   "execution_count": 79,
   "metadata": {},
   "outputs": [
    {
     "name": "stdout",
     "output_type": "stream",
     "text": [
      "test score: 0.9777777777777777\n",
      "Best score: 0.9849624060150376\n",
      "Best parameters: {'svm__C': 1, 'svm__gamma': 1}\n"
     ]
    }
   ],
   "source": [
    "from sklearn.pipeline import Pipeline\n",
    "from sklearn.preprocessing import MinMaxScaler\n",
    "from sklearn.model_selection import GridSearchCV\n",
    "\n",
    "pipe = Pipeline([(\"Maxscaler\", MinMaxScaler()), (\"svm\", SVC())])\n",
    "pipe.fit(wine_X_train, wine_y_train)\n",
    "\n",
    "param_grid = {'svm__C': [0.001, 0.01, 0.1, 1, 10, 100], 'svm__gamma': [0.001, 0.01, 0.1 ,1, 10 ,100]}\n",
    "grid = GridSearchCV(pipe,param_grid = param_grid, cv=5)\n",
    "grid.fit(wine_X_train, wine_y_train)\n",
    "\n",
    "print(\"test score:\", grid.score(wine_X_test,wine_y_test))\n",
    "print(\"Best score:\", grid.best_score_)\n",
    "print(\"Best parameters:\", grid.best_params_)"
   ]
  },
  {
   "cell_type": "markdown",
   "metadata": {},
   "source": [
    "using Normalizer() (grid search)"
   ]
  },
  {
   "cell_type": "code",
   "execution_count": 80,
   "metadata": {},
   "outputs": [
    {
     "name": "stdout",
     "output_type": "stream",
     "text": [
      "test score: 0.8888888888888888\n",
      "Best score: 0.9699248120300752\n",
      "Best parameters: {'svm__C': 100, 'svm__gamma': 100}\n"
     ]
    }
   ],
   "source": [
    "import warnings\n",
    "warnings.filterwarnings(\"ignore\")\n",
    "\n",
    "\n",
    "from sklearn.pipeline import Pipeline\n",
    "from sklearn.preprocessing import Normalizer\n",
    "from sklearn.model_selection import GridSearchCV\n",
    "\n",
    "pipe = Pipeline([(\"Normalizer\", Normalizer()), (\"svm\", SVC())])\n",
    "pipe.fit(wine_X_train, wine_y_train)\n",
    "\n",
    "param_grid = {'svm__C': [0.001, 0.01, 0.1, 1, 10, 100], 'svm__gamma': [0.001, 0.01, 0.1 ,1, 10 ,100]}\n",
    "grid = GridSearchCV(pipe,param_grid = param_grid, cv=5)\n",
    "grid.fit(wine_X_train, wine_y_train)\n",
    "\n",
    "print(\"test score:\", grid.score(wine_X_test,wine_y_test))\n",
    "print(\"Best score:\", grid.best_score_)\n",
    "print(\"Best parameters:\", grid.best_params_)\n"
   ]
  },
  {
   "cell_type": "markdown",
   "metadata": {},
   "source": [
    "using StandardScaler() (grid search)"
   ]
  },
  {
   "cell_type": "code",
   "execution_count": 81,
   "metadata": {},
   "outputs": [
    {
     "name": "stdout",
     "output_type": "stream",
     "text": [
      "test score: 0.9777777777777777\n",
      "Best score: 0.9849624060150376\n",
      "Best parameters: {'svm__C': 0.1, 'svm__gamma': 0.1}\n"
     ]
    }
   ],
   "source": [
    "from sklearn.pipeline import Pipeline\n",
    "from sklearn.preprocessing import StandardScaler\n",
    "from sklearn.model_selection import GridSearchCV\n",
    "\n",
    "pipe = Pipeline([(\"StandardScaler\", StandardScaler()), (\"svm\", SVC())])\n",
    "pipe.fit(wine_X_train, wine_y_train)\n",
    "\n",
    "param_grid = {'svm__C': [0.001, 0.01, 0.1, 1, 10, 100], 'svm__gamma': [0.001, 0.01, 0.1 ,1, 10 ,100]}\n",
    "grid = GridSearchCV(pipe,param_grid = param_grid, cv=5)\n",
    "grid.fit(wine_X_train, wine_y_train)\n",
    "\n",
    "print(\"test score:\", grid.score(wine_X_test,wine_y_test))\n",
    "print(\"Best score:\", grid.best_score_)\n",
    "print(\"Best parameters:\", grid.best_params_)"
   ]
  },
  {
   "cell_type": "markdown",
   "metadata": {},
   "source": [
    "using RobustScaler() (grid search)\n"
   ]
  },
  {
   "cell_type": "code",
   "execution_count": 82,
   "metadata": {},
   "outputs": [
    {
     "name": "stdout",
     "output_type": "stream",
     "text": [
      "test score: 0.9777777777777777\n",
      "Best score: 0.9849624060150376\n",
      "Best parameters: {'svm__C': 1, 'svm__gamma': 0.1}\n"
     ]
    }
   ],
   "source": [
    "from sklearn.pipeline import Pipeline\n",
    "from sklearn.preprocessing import RobustScaler\n",
    "from sklearn.model_selection import GridSearchCV\n",
    "\n",
    "pipe = Pipeline([(\"StandardScaler\", RobustScaler()), (\"svm\", SVC())])\n",
    "pipe.fit(wine_X_train, wine_y_train)\n",
    "\n",
    "param_grid = {'svm__C': [0.001, 0.01, 0.1, 1, 10, 100], 'svm__gamma': [0.001, 0.01, 0.1 ,1, 10 ,100]}\n",
    "grid = GridSearchCV(pipe,param_grid = param_grid, cv=5)\n",
    "grid.fit(wine_X_train, wine_y_train)\n",
    "\n",
    "print(\"test score:\", grid.score(wine_X_test,wine_y_test))\n",
    "print(\"Best score:\", grid.best_score_)\n",
    "print(\"Best parameters:\", grid.best_params_)"
   ]
  },
  {
   "cell_type": "markdown",
   "metadata": {},
   "source": [
    "When comparing Normalizer with other normalization function such as MinMaxscaler(), StandardScaler, RobustScaler,  the test score used other functions are higher than the one used normalizer function."
   ]
  },
  {
   "cell_type": "markdown",
   "metadata": {},
   "source": [
    "USPS data\n",
    "\n",
    "using MinMaxScaler() (grid search)"
   ]
  },
  {
   "cell_type": "code",
   "execution_count": 83,
   "metadata": {},
   "outputs": [
    {
     "name": "stdout",
     "output_type": "stream",
     "text": [
      "test score: 0.9724731182795698\n",
      "Best score: 0.9693101964721067\n",
      "Best parameters: {'svm__C': 10, 'svm__gamma': 0.01}\n"
     ]
    }
   ],
   "source": [
    "from sklearn.pipeline import Pipeline\n",
    "from sklearn.preprocessing import MinMaxScaler\n",
    "from sklearn.model_selection import GridSearchCV\n",
    "\n",
    "pipe = Pipeline([(\"Maxscaler\", MinMaxScaler()), (\"svm\", SVC())])\n",
    "pipe.fit(usps_X_train, usps_y_train)\n",
    "\n",
    "param_grid = {'svm__C': [0.001, 0.01, 0.1, 1, 10, 100], 'svm__gamma': [0.001, 0.01, 0.1 ,1, 10 ,100]}\n",
    "grid = GridSearchCV(pipe,param_grid = param_grid, cv=5)\n",
    "grid.fit(usps_X_train, usps_y_train)\n",
    "\n",
    "print(\"test score:\", grid.score(usps_X_test,usps_y_test))\n",
    "print(\"Best score:\", grid.best_score_)\n",
    "print(\"Best parameters:\", grid.best_params_)"
   ]
  },
  {
   "cell_type": "markdown",
   "metadata": {},
   "source": [
    "using Normalizer() (grid search)"
   ]
  },
  {
   "cell_type": "code",
   "execution_count": 84,
   "metadata": {},
   "outputs": [
    {
     "name": "stdout",
     "output_type": "stream",
     "text": [
      "test score: 0.9741935483870968\n",
      "Best score: 0.9738993259716048\n",
      "Best parameters: {'svm__C': 10, 'svm__gamma': 1}\n"
     ]
    }
   ],
   "source": [
    "from sklearn.pipeline import Pipeline\n",
    "from sklearn.preprocessing import Normalizer\n",
    "from sklearn.model_selection import GridSearchCV\n",
    "\n",
    "pipe = Pipeline([(\"Normalizer\", Normalizer()), (\"svm\", SVC())])\n",
    "pipe.fit(usps_X_train, usps_y_train)\n",
    "\n",
    "param_grid = {'svm__C': [0.001, 0.01, 0.1, 1, 10, 100], 'svm__gamma': [0.001, 0.01, 0.1 ,1, 10 ,100]}\n",
    "grid = GridSearchCV(pipe,param_grid = param_grid, cv=5)\n",
    "grid.fit(usps_X_train, usps_y_train)\n",
    "\n",
    "print(\"test score:\", grid.score(usps_X_test,usps_y_test))\n",
    "print(\"Best score:\", grid.best_score_)\n",
    "print(\"Best parameters:\", grid.best_params_)"
   ]
  },
  {
   "cell_type": "markdown",
   "metadata": {},
   "source": [
    "Unlike wine data, it obtains the highest score when using normalizer function."
   ]
  },
  {
   "cell_type": "markdown",
   "metadata": {},
   "source": [
    "Question 6\n",
    "\n",
    "Wine data"
   ]
  },
  {
   "cell_type": "code",
   "execution_count": 5,
   "metadata": {},
   "outputs": [
    {
     "name": "stdout",
     "output_type": "stream",
     "text": [
      "test accuracy: 0.9777777777777777\n",
      "test error rate: 0.022222222222222223\n"
     ]
    }
   ],
   "source": [
    "from sklearn.pipeline import Pipeline\n",
    "from sklearn.preprocessing import MinMaxScaler\n",
    "from sklearn.model_selection import GridSearchCV\n",
    "\n",
    "pipe = Pipeline([(\"Maxscaler\", MinMaxScaler()), (\"svm\", SVC())])\n",
    "pipe.fit(wine_X_train, wine_y_train)\n",
    "\n",
    "param_grid = {'svm__C': [1], 'svm__gamma': [1]}\n",
    "grid = GridSearchCV(pipe,param_grid = param_grid, cv=5)\n",
    "grid.fit(wine_X_train, wine_y_train)\n",
    "y_pred = grid.predict(wine_X_test)\n",
    "accuracy = np.mean(y_pred == wine_y_test)\n",
    "test_error = np.mean(y_pred != wine_y_test)\n",
    "\n",
    "print(\"test accuracy:\", accuracy)\n",
    "print(\"test error rate:\", test_error)"
   ]
  },
  {
   "cell_type": "markdown",
   "metadata": {},
   "source": [
    "USPS data"
   ]
  },
  {
   "cell_type": "code",
   "execution_count": 6,
   "metadata": {},
   "outputs": [
    {
     "name": "stdout",
     "output_type": "stream",
     "text": [
      "test accuracy: 0.9741935483870968\n",
      "test error rate: 0.025806451612903226\n"
     ]
    }
   ],
   "source": [
    "from sklearn.pipeline import Pipeline\n",
    "from sklearn.preprocessing import Normalizer\n",
    "from sklearn.model_selection import GridSearchCV\n",
    "\n",
    "pipe = Pipeline([(\"Normalizer\", Normalizer()), (\"svm\", SVC())])\n",
    "pipe.fit(usps_X_train, usps_y_train)\n",
    "\n",
    "param_grid = {'svm__C': [10], 'svm__gamma': [1]}\n",
    "grid = GridSearchCV(pipe,param_grid = param_grid, cv=5)\n",
    "grid.fit(usps_X_train, usps_y_train)\n",
    "usps_y_pred = grid.predict(usps_X_test)\n",
    "usps_accuracy = np.mean(usps_y_pred == usps_y_test)\n",
    "usps_test_error = np.mean(usps_y_pred != usps_y_test)\n",
    "\n",
    "print(\"test accuracy:\", usps_accuracy)\n",
    "print(\"test error rate:\", usps_test_error)"
   ]
  },
  {
   "cell_type": "markdown",
   "metadata": {},
   "source": [
    "In the case of USPS data, it was found out that the test error rate was lower after normalization than before when using the default of parameters.\n"
   ]
  },
  {
   "cell_type": "markdown",
   "metadata": {},
   "source": [
    "Question 7 wine_data"
   ]
  },
  {
   "cell_type": "code",
   "execution_count": 19,
   "metadata": {},
   "outputs": [],
   "source": [
    "from sklearn.pipeline import Pipeline\n",
    "from sklearn.preprocessing import Normalizer\n",
    "from sklearn.model_selection import GridSearchCV\n",
    "from sklearn.preprocessing import MinMaxScaler\n",
    "from sklearn.model_selection import KFold\n",
    "%matplotlib inline\n",
    "import matplotlib.pyplot as plt\n",
    "\n",
    "def KfoldFunc(X_train, y_train,X_test):\n",
    "    cKf = KFold(shuffle=True,n_splits = 5, random_state = 0)\n",
    "\n",
    "    ranks = 0\n",
    "    rank2 = 0\n",
    "    returnlist = []\n",
    "\n",
    "    for trainProper_index, calibration_index in cKf.split(X_train):\n",
    "        X_properTrain, X_calibration = X_train[trainProper_index], X_train[calibration_index]\n",
    "        y_properTrain, y_calibration = y_train[trainProper_index], y_train[calibration_index]\n",
    "        ranks = calcconformity(X_properTrain,y_properTrain,X_test)\n",
    "        for i in range(len(ranks)):\n",
    "            Maxval = max(ranks[i])\n",
    "            Maxidx = np.where(ranks[i] == Maxval)\n",
    "            returnlist.append(Maxidx[0])\n",
    "\n",
    "\n",
    "    return returnlist\n",
    "\n",
    "def calcconformity(X_proper, y_proper, X_test):\n",
    "\n",
    "    pV = [];\n",
    "    idx = 0;\n",
    "    pipe = Pipeline([(\"Maxscaler\", MinMaxScaler()), (\"svm\", SVC())])\n",
    "    pipe.fit(X_proper, y_proper)\n",
    "    param_grid = {'svm__C': [1], 'svm__gamma': [1]}\n",
    "    grid = GridSearchCV(pipe, param_grid=param_grid, cv=5)\n",
    "    grid.fit(X_proper, y_proper)\n",
    "    bestValue = grid.decision_function(X_test)\n",
    "    return bestValue\n",
    "\n",
    "\n",
    "def pValuecalc(list,n):\n",
    "\n",
    "    pValue = 0\n",
    "    sumAll = sum(list) + 1\n",
    "    length = n+1.00\n",
    "    pValue = (sumAll) / length\n",
    "\n",
    "\n",
    "    return pValue\n",
    "\n",
    "def plotCalibration(pValue,X_test,y_test):\n",
    "    eps = 1.0*(np.arange(100)+1)/100\n",
    "    err = np.zeros(100)\n",
    "    for i in range(100):\n",
    "        #eps[i] = i / 100\n",
    "        #err = 0\n",
    "        for j in range(np.shape(X_test)[0]):\n",
    "            if pValue[j] <= eps[i]:\n",
    "                err[i] = err[i] + 1\n",
    "        err[i] = err[i] / np.shape(X_test)[0]\n",
    "\n",
    "    \n",
    "    plt.plot(eps,err)\n",
    "    plt.title(\"Calibration plot\")\n",
    "\n",
    "def main(X_train, y_train, X_test, y_test):\n",
    "    Value = 0\n",
    "    list = KfoldFunc(X_train, y_train, X_test)\n",
    "    Value = pValuecalc(list,len(X_train) + len(y_train))\n",
    "    print(\"Average P-Value: \", Value)\n",
    "    plotCalibration(list,X_test,y_test)\n",
    "    return Value"
   ]
  },
  {
   "cell_type": "markdown",
   "metadata": {},
   "source": [
    "Wine Data"
   ]
  },
  {
   "cell_type": "code",
   "execution_count": 20,
   "metadata": {},
   "outputs": [
    {
     "name": "stdout",
     "output_type": "stream",
     "text": [
      "Average P-Value:  [0.82771536]\n"
     ]
    },
    {
     "data": {
      "image/png": "[encoded data removed]",
      "text/plain": [
       "<Figure size 432x288 with 1 Axes>"
      ]
     },
     "metadata": {},
     "output_type": "display_data"
    }
   ],
   "source": [
    "#wine_X_train, wine_X_test, wine_y_train, wine_y_test = train_test_split(wine['data'], wine['target'],random_state=1505)\n",
    "#usps_X_train, usps_X_test, usps_y_train, usps_y_test = train_test_split(USPS_X, USPS_Y,random_state=1505)\n",
    "\n",
    "Value = main(wine_X_train,wine_y_train,wine_X_test,wine_y_test)\n"
   ]
  },
  {
   "cell_type": "markdown",
   "metadata": {},
   "source": [
    "USPS DATA"
   ]
  },
  {
   "cell_type": "code",
   "execution_count": 21,
   "metadata": {},
   "outputs": [
    {
     "name": "stdout",
     "output_type": "stream",
     "text": [
      "Average P-Value:  [0.09270811]\n"
     ]
    },
    {
     "data": {
      "image/png": "[encoded data removed]",
      "text/plain": [
       "<Figure size 432x288 with 1 Axes>"
      ]
     },
     "metadata": {},
     "output_type": "display_data"
    }
   ],
   "source": [
    "Value = main(usps_X_train,usps_y_train,usps_X_test,usps_y_test)"
   ]
  },
  {
   "cell_type": "code",
   "execution_count": null,
   "metadata": {},
   "outputs": [],
   "source": []
  }
 ],
 "metadata": {
  "kernelspec": {
   "display_name": "Python 3",
   "language": "python",
   "name": "python3"
  },
  "language_info": {
   "codemirror_mode": {
    "name": "ipython",
    "version": 3
   },
   "file_extension": ".py",
   "mimetype": "text/x-python",
   "name": "python",
   "nbconvert_exporter": "python",
   "pygments_lexer": "ipython3",
   "version": "3.6.8"
  }
 },
 "nbformat": 4,
 "nbformat_minor": 2
}
